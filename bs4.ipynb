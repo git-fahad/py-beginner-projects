{
  "nbformat": 4,
  "nbformat_minor": 0,
  "metadata": {
    "colab": {
      "provenance": [],
      "authorship_tag": "ABX9TyN8IoFKhU4Iw+sJzUw+eVh+",
      "include_colab_link": true
    },
    "kernelspec": {
      "name": "python3",
      "display_name": "Python 3"
    },
    "language_info": {
      "name": "python"
    }
  },
  "cells": [
    {
      "cell_type": "markdown",
      "metadata": {
        "id": "view-in-github",
        "colab_type": "text"
      },
      "source": [
        "<a href=\"https://colab.research.google.com/github/git-fahad/py-beginner-projects/blob/main/bs4.ipynb\" target=\"_parent\"><img src=\"https://colab.research.google.com/assets/colab-badge.svg\" alt=\"Open In Colab\"/></a>"
      ]
    },
    {
      "cell_type": "code",
      "source": [
        "import requests\n",
        "from bs4 import BeautifulSoup\n",
        "\n",
        "url = \"https://pubmed.ncbi.nlm.nih.gov/35105985/\"\n",
        "\n",
        "data = requests.get(url)\n",
        "\n",
        "soup = BeautifulSoup(data.content, 'html.parser')\n",
        "\n",
        "results = soup.find(id='article-details')\n",
        "\n",
        "title = results.find_all('h1', class_=\"heading-title\")\n",
        "\n",
        "for t in title:\n",
        "    print(t.text)"
      ],
      "metadata": {
        "colab": {
          "base_uri": "https://localhost:8080/"
        },
        "id": "LYjLwEjaHHCB",
        "outputId": "32440043-c30a-4495-d9b0-82126cbd4450"
      },
      "execution_count": 29,
      "outputs": [
        {
          "output_type": "stream",
          "name": "stdout",
          "text": [
            "\n",
            "  \n",
            "    \n",
            "    \n",
            "    \n",
            "    \n",
            "      \n",
            "  Pathological sequelae of long-haul COVID\n",
            "\n",
            "\n",
            "    \n",
            "  \n",
            "\n",
            "\n",
            "  \n",
            "    \n",
            "    \n",
            "    \n",
            "    \n",
            "      \n",
            "  Pathological sequelae of long-haul COVID\n",
            "\n",
            "\n",
            "    \n",
            "  \n",
            "\n"
          ]
        }
      ]
    }
  ]
}