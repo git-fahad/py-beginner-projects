{
  "nbformat": 4,
  "nbformat_minor": 0,
  "metadata": {
    "colab": {
      "provenance": [],
      "authorship_tag": "ABX9TyP5afgwvZH8SR2ZOdajayuE",
      "include_colab_link": true
    },
    "kernelspec": {
      "name": "python3",
      "display_name": "Python 3"
    },
    "language_info": {
      "name": "python"
    }
  },
  "cells": [
    {
      "cell_type": "markdown",
      "metadata": {
        "id": "view-in-github",
        "colab_type": "text"
      },
      "source": [
        "<a href=\"https://colab.research.google.com/github/git-fahad/py-beginner-projects/blob/main/py-ml.ipynb\" target=\"_parent\"><img src=\"https://colab.research.google.com/assets/colab-badge.svg\" alt=\"Open In Colab\"/></a>"
      ]
    },
    {
      "cell_type": "code",
      "execution_count": 4,
      "metadata": {
        "colab": {
          "base_uri": "https://localhost:8080/"
        },
        "id": "SLChD1f8aL3a",
        "outputId": "41e14de5-187f-4636-e688-83693196d822"
      },
      "outputs": [
        {
          "output_type": "stream",
          "name": "stdout",
          "text": [
            "0    6\n",
            "1    3\n",
            "2    4\n",
            "3    5\n",
            "dtype: int64\n"
          ]
        }
      ],
      "source": [
        "import pandas\n",
        "x = pandas.Series([6,3,4,5])\n",
        "print(x)"
      ]
    },
    {
      "cell_type": "markdown",
      "source": [
        "0,1,2,3 - default index\n"
      ],
      "metadata": {
        "id": "wUev52YSaetY"
      }
    },
    {
      "cell_type": "code",
      "source": [
        "import numpy\n",
        "import pandas\n",
        "df = pandas.DataFrame(numpy.random.randn(7,7))\n",
        "print(df)"
      ],
      "metadata": {
        "colab": {
          "base_uri": "https://localhost:8080/"
        },
        "id": "Ztln6kFsaiXi",
        "outputId": "b3f1b6b2-6b85-4f75-d3bd-8ef800fecea2"
      },
      "execution_count": 9,
      "outputs": [
        {
          "output_type": "stream",
          "name": "stdout",
          "text": [
            "          0         1         2         3         4         5         6\n",
            "0  1.372706  0.162088 -0.348369 -0.363578 -0.361188 -0.459481  1.123480\n",
            "1 -0.473669 -0.009275 -0.465576  1.041918  0.365500  0.547476 -1.030884\n",
            "2  1.876473  0.496100  0.545744  0.059270 -0.852012  0.778917  0.094943\n",
            "3  1.100921  0.310750 -0.792423 -0.770406 -1.457582  0.218396  0.344564\n",
            "4  0.310672 -0.466469  1.143078 -1.967763  1.106600  1.198471 -0.694125\n",
            "5  0.260893  0.191240  0.304418  0.132935  1.825799 -1.059230  0.302545\n",
            "6  1.262536  0.190318 -0.276259  1.211201 -0.264751 -1.725688 -0.096451\n"
          ]
        }
      ]
    },
    {
      "cell_type": "code",
      "source": [],
      "metadata": {
        "id": "r_OW-i0QbL_Q"
      },
      "execution_count": null,
      "outputs": []
    }
  ]
}